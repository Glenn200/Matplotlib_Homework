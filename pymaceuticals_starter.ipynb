{
 "cells": [
  {
   "cell_type": "markdown",
   "metadata": {},
   "source": [
    "## Observations and Insights "
   ]
  },
  {
   "cell_type": "markdown",
   "metadata": {},
   "source": [
    "#Resources\n",
    "Lambda - https://www.programiz.com/python-programming/anonymous-function#:~:text=Use%20of%20Lambda%20Function%20in%20python%20We%20use,built-in%20functions%20like%20filter%20%28%29%2C%20map%20%28%29%20etc.https://www.programiz.com/python-programming/anonymous-function#:~:text=Use%20of%20Lambda%20Function%20in%20python%20We%20use,built-in%20functions%20like%20filter%20%28%29%2C%20map%20%28%29%20etc.\n",
    "DataFrame Merge - https://www.geeksforgeeks.org/joining-two-pandas-dataframes-using-merge/https://www.geeksforgeeks.org/joining-two-pandas-dataframes-using-merge/\n",
    "AGG - https://pandas.pydata.org/docs/getting_started/intro_tutorials/06_calculate_statistics.htmlhttps://pandas.pydata.org/docs/getting_started/intro_tutorials/06_calculate_statistics.html\n",
    "BoxPlots - https://www.askpython.com/python/examples/boxplotshttps://www.askpython.com/python/examples/boxplots\n",
    "         - (https://matplotlib.org/gallery/pyplots/boxplot_demo_pyplot.html#sphx-glr-gallery-pyplots-boxplot-demo-pyplot-py)  \n",
    "Correlation - https://realpython.com/numpy-scipy-pandas-correlation-python/#linear-correlationhttps://realpython.com/numpy-scipy-pandas-correlation-python/#linear-correlation"
   ]
  },
  {
   "cell_type": "code",
   "execution_count": null,
   "metadata": {},
   "outputs": [],
   "source": [
    "# Dependencies and Setup\n",
    "import matplotlib.pyplot as plt\n",
    "import pandas as pd\n",
    "import scipy.stats as st\n",
    "from scipy.stats import linregress\n",
    "from scipy.stats import sem\n"
   ]
  },
  {
   "cell_type": "code",
   "execution_count": null,
   "metadata": {},
   "outputs": [],
   "source": [
    "# Study data files\n",
    "mouse_metadata_path = \"data/Mouse_metadata.csv\"\n",
    "study_results_path = \"data/Study_results.csv\"\n",
    "\n",
    "# Read the mouse data and the study results\n",
    "mouse_metadata = pd.read_csv(mouse_metadata_path)\n",
    "study_results = pd.read_csv(study_results_path)\n",
    "\n",
    "# Combine the data into a single dataset\n",
    "mouse_df = pd.merge(mouse_metadata,study_results, how='outer', on='Mouse ID')\n",
    "\n",
    "# Display the data table for preview\n",
    "mouse_df.head()"
   ]
  },
  {
   "cell_type": "code",
   "execution_count": null,
   "metadata": {},
   "outputs": [],
   "source": [
    "# Checking the number of mice.\n",
    "mouse_df['Mouse ID'].nunique()"
   ]
  },
  {
   "cell_type": "code",
   "execution_count": null,
   "metadata": {},
   "outputs": [],
   "source": [
    "# Getting the duplicate mice by ID number that shows up for Mouse ID and Timepoint. \n",
    "dup_mouse = mouse_df.duplicated(subset=['Mouse ID', 'Timepoint'], keep=False)\n",
    "dup_mouse_data = (mouse_df.loc[dup_mouse.values, ['Mouse ID', 'Timepoint']])\n",
    "dup_mouse_ID = dup_mouse_data['Mouse ID'].unique()\n",
    "\n",
    "print(dup_mouse_ID)"
   ]
  },
  {
   "cell_type": "code",
   "execution_count": null,
   "metadata": {},
   "outputs": [],
   "source": [
    "# Optional: Get all the data for the duplicate mouse ID. \n",
    "dup_mouse_data = (mouse_df.loc[dup_mouse.values, ['Mouse ID', 'Timepoint']])\n",
    "dup_mouse_data"
   ]
  },
  {
   "cell_type": "code",
   "execution_count": null,
   "metadata": {},
   "outputs": [],
   "source": [
    "# Create a clean DataFrame by dropping the duplicate mouse by its ID.\n",
    "mouse_df_cln = mouse_df.drop(mouse_df.loc[mouse_df['Mouse ID'] == 'g989'].index) #, inplace=True)\n",
    "mouse_df_cln"
   ]
  },
  {
   "cell_type": "code",
   "execution_count": null,
   "metadata": {},
   "outputs": [],
   "source": [
    "# Checking the number of mice in the clean DataFrame.\n",
    "mouse_df_cln['Mouse ID'].nunique()"
   ]
  },
  {
   "cell_type": "markdown",
   "metadata": {},
   "source": [
    "## Summary Statistics"
   ]
  },
  {
   "cell_type": "code",
   "execution_count": null,
   "metadata": {},
   "outputs": [],
   "source": [
    "# Generate a summary statistics table of mean, median, variance, standard deviation, and SEM of the tumor volume for each regimen\n",
    "# Calculate the mean, median, standard deviation, and sem for each drug\n",
    "t_mean = mouse_df_cln.groupby('Drug Regimen').mean()['Tumor Volume (mm3)']\n",
    "t_median = mouse_df_cln.groupby('Drug Regimen').median()['Tumor Volume (mm3)']\n",
    "t_variance = mouse_df_cln.groupby('Drug Regimen').var()['Tumor Volume (mm3)']\n",
    "t_std_dev = mouse_df_cln.groupby('Drug Regimen').std()['Tumor Volume (mm3)']\n",
    "t_sem = mouse_df_cln.groupby('Drug Regimen').sem()['Tumor Volume (mm3)']\n",
    "#Summary dataframe\n",
    "mean_df = pd.DataFrame(t_mean)\n",
    "sum_grpd_df = pd.DataFrame({'Mean': t_mean, 'Median': t_median,\n",
    "                                   'Std_Dev': t_std_dev, 'SEM': t_sem})\n",
    "#Display summary dataframe\n",
    "sum_grpd_df"
   ]
  },
  {
   "cell_type": "code",
   "execution_count": null,
   "metadata": {},
   "outputs": [],
   "source": [
    "# Generate a summary statistics table of mean, median, variance, standard deviation, and SEM of the tumor volume for each regimen\n",
    "# Using the aggregation method, produce the same summary statistics in a single line\n",
    "tblsum_df= mouse_df_cln.groupby('Drug Regimen').agg(Mean = ('Tumor Volume (mm3)','mean'),\n",
    "                                                        Median = ('Tumor Volume (mm3)','median'),\n",
    "                                                        Variance = ('Tumor Volume (mm3)','var'),\n",
    "                                                        STD_Dev = ('Tumor Volume (mm3)','std'),\n",
    "                                                        SEM = ('Tumor Volume (mm3)','sem'))\n",
    "#Display summary dataframe\n",
    "tblsum_df"
   ]
  },
  {
   "cell_type": "markdown",
   "metadata": {},
   "source": [
    "## Bar and Pie Charts"
   ]
  },
  {
   "cell_type": "code",
   "execution_count": null,
   "metadata": {},
   "outputs": [],
   "source": [
    "# Generate a bar plot showing the total number of measurements taken on each drug regimen using pandas.\n",
    "bchrt_data = mouse_df_cln.groupby('Drug Regimen').count()['Tumor Volume (mm3)']\n",
    "bchrt_plt_data = bchrt_data.plot.bar(rot='vertical',title='Number of Measurements for Each Treatment Regimen')\n",
    "bchrt_plt_data.set_xlabel(\"Drug Regimen\")\n",
    "bchrt_plt_data.set_ylabel(\"Number of Measurements\")\n"
   ]
  },
  {
   "cell_type": "code",
   "execution_count": null,
   "metadata": {},
   "outputs": [],
   "source": [
    "# Generate a bar plot showing the total number of measurements taken on each drug regimen using pyplot.\n",
    "bchrt_data = mouse_df_cln.groupby('Drug Regimen').count()['Tumor Volume (mm3)']\n",
    "bchrt_plt_data = bchrt_data.plot.bar(rot='vertical',title='Number of Measurements for Each Treatment Regimen')\n",
    "\n",
    "plt.xdata = bchrt_plt_data.plot\n",
    "plt.xlabel('Drug Regimen')\n",
    "plt.ylabel('Number of Measurements')\n",
    "plt.title('Number of Measurements for Each Treatment Regimen')\n",
    "plt.show()\n"
   ]
  },
  {
   "cell_type": "code",
   "execution_count": null,
   "metadata": {},
   "outputs": [],
   "source": [
    "# Generate a pie plot showing the distribution of female versus male mice using pandas\n",
    "p_gndr = mouse_df_cln.groupby('Sex').count()['Mouse ID']\n",
    "pie_plot = p_gndr.plot.pie(ylabel='Sex',title='Distribution of Female vs Male Mice',startangle = 120,autopct = '%1.2f%%',fontsize=16)\n"
   ]
  },
  {
   "cell_type": "code",
   "execution_count": null,
   "metadata": {},
   "outputs": [],
   "source": [
    "# Generate a pie plot showing the distribution of female versus male mice using pyplot\n",
    "p_gndr = mouse_df_cln.groupby('Sex').count()['Mouse ID']\n",
    "plt.pie(p_gndr, labels = p_gndr.index, autopct=\"%1.2f%%\", shadow=True, startangle=120)\n",
    "plt.title('Distribution of Female vs Male Mice')\n",
    "plt.ylabel('Sex')\n",
    "plt.show()"
   ]
  },
  {
   "cell_type": "markdown",
   "metadata": {},
   "source": [
    "## Quartiles, Outliers and Boxplots"
   ]
  },
  {
   "cell_type": "code",
   "execution_count": null,
   "metadata": {},
   "outputs": [],
   "source": [
    "# Calculate the final tumor volume of each mouse across four of the treatment regimens:  \n",
    "# Capomulin, Ramicane, Infubinol, and Ceftamin\n",
    "\n",
    "# Start by getting the last (greatest) timepoint for each mouse\n",
    "maxtp_df = pd.DataFrame(mouse_df_cln.groupby('Mouse ID')['Timepoint'].max().sort_values()).reset_index().rename(columns={'Timepoint': 'max_timepoint'})\n",
    "\n",
    "# Merge this group df with the original dataframe to get the tumor volume at the last timepoint\n",
    "mrg_mouse_df_cln = pd.merge(mouse_df_cln, maxtp_df, on='Mouse ID')\n",
    "mrg_mouse_df_cln.head()"
   ]
  },
  {
   "cell_type": "code",
   "execution_count": null,
   "metadata": {},
   "outputs": [],
   "source": [
    "# Put treatments into a list for for loop (and later for plot labels)\n",
    "drug_lst = ['Capomulin', 'Ramicane', 'Infubinol', 'Ceftamin']\n",
    "#Data frame for plot\n",
    "drugs_df = mrg_mouse_df_cln[mrg_mouse_df_cln['Drug Regimen'].isin(drug_lst)]\n",
    "#Last Value\n",
    "lst_tumor_df = drugs_df.groupby(['Drug Regimen','Mouse ID']).agg(\\\n",
    "        # last value of the 'Tumor Volume (mm3)'\n",
    "        lst_tumor_size=('Tumor Volume (mm3)',lambda x: x.iloc[-1])).round(3)\n",
    "\n",
    "# View the groupby dataframe\n",
    "lst_tumor_df"
   ]
  },
  {
   "cell_type": "code",
   "execution_count": null,
   "metadata": {},
   "outputs": [],
   "source": [
    "# Reshape dataframe\n",
    "lst_tumor_trans_df = lst_tumor_df.stack(level=0).unstack(level=0)\n",
    "# View to confirm transpose\n",
    "lst_tumor_trans_df.head()"
   ]
  },
  {
   "cell_type": "code",
   "execution_count": null,
   "metadata": {},
   "outputs": [],
   "source": [
    "# Create empty list to fill with tumor vol data (for plotting)\n",
    "boxplot_list = []\n",
    "\n",
    "# Calculate the IQR and quantitatively determine if there are any potential outliers. \n",
    "counter = 0\n",
    "for drug in drug_lst:\n",
    "    quartiles = lst_tumor_trans_df[drug].quantile([.25,.5,.75]).round(2)\n",
    "    lowerq = quartiles[0.25].round(2)\n",
    "    upperq = quartiles[0.75].round(2)\n",
    "    iqr = round(upperq-lowerq,2)\n",
    "    lower_bound = round(lowerq - (1.5*iqr),2)\n",
    "    upper_bound = round(upperq + (1.5*iqr),2)\n",
    "    \n",
    "    # Check for first pass in loop, prints a blank ine for seperation\n",
    "    if counter == 0:\n",
    "        print()\n",
    "    print(f\"{drug} IQR data is:\")\n",
    "    print(f\"Lower quartile of {drug} is: {lowerq}\")\n",
    "    print(f\"Upper quartile of {drug} is: {upperq}\")\n",
    "    print(f\"Interquartile range of {drug} is: {iqr}\")\n",
    "    print(f\"Median of {drug} is: {quartiles[0.5]} \")\n",
    "    print(f\"Values below {lower_bound} for {drug} could be outliers.\")\n",
    "    print(f\"Values above {upper_bound} for {drug} could be outliers.\")\n",
    "    print()\n",
    "    counter += 1\n",
    "\n",
    "    # Determine outliers using upper and lower bounds"
   ]
  },
  {
   "cell_type": "code",
   "execution_count": null,
   "metadata": {},
   "outputs": [],
   "source": [
    "# Generate a box plot of the final tumor volume of each mouse across four regimens of interest\n",
    "# Iterate through the list of the four drugs names using them to select the same column names\n",
    "# and appending to the boxplot_list\n",
    "for drug in drug_lst:\n",
    "    boxplot_list.append(list(lst_tumor_trans_df[drug].dropna()))\n",
    " \n",
    "# Plot the list of lists using a boxplot utilizing the same y-axis for all plots\n",
    "fig1, ax = plt.subplots(figsize=(9,7))\n",
    "ax.set_title('Final measured Tumor volume by Drug Regimen')\n",
    "ax.set_xlabel('Drug Regimen')\n",
    "ax.set_ylabel('Tumor Vol (mm3)')\n",
    "ax.boxplot(boxplot_list,notch=0,sym='gD')\n",
    "plt.xticks([1,2,3,4],drug_lst)\n",
    "\n",
    "plt.show()"
   ]
  },
  {
   "cell_type": "markdown",
   "metadata": {},
   "source": [
    "## Line and Scatter Plots"
   ]
  },
  {
   "cell_type": "code",
   "execution_count": null,
   "metadata": {},
   "outputs": [],
   "source": []
  },
  {
   "cell_type": "code",
   "execution_count": null,
   "metadata": {},
   "outputs": [],
   "source": [
    "# Identify data points of a mouse treated with Capomulin\n",
    "cap_mouse = mouse_df_cln.loc[mouse_df_cln['Mouse ID'] == 'm957']\n",
    "\n",
    "# Plot a line chart with the time values on the x-axis and the tumor volume values on the y-axis\n",
    "# marker = 'o' adds circles on each data point for visibility\n",
    "plt.plot(cap_mouse['Timepoint'],cap_mouse['Tumor Volume (mm3)'], marker = 'o')\n",
    "\n",
    "# Add labels and title to plot\n",
    "plt.xlabel(\"Time (days)\")\n",
    "plt.ylabel(\"Tumor Volume (mm3)\")\n",
    "plt.title(\"Capomulin Treatment of Mouse m957\")\n",
    "\n",
    "# Display plot\n",
    "plt.show()"
   ]
  },
  {
   "cell_type": "markdown",
   "metadata": {},
   "source": [
    "## Correlation and Regression"
   ]
  },
  {
   "cell_type": "code",
   "execution_count": null,
   "metadata": {},
   "outputs": [],
   "source": [
    "# Calculate the correlation coefficient and linear regression model \n",
    "# for mouse weight and average tumor volume for the Capomulin regimen\n",
    "correlation = st.pearsonr(mouse_df_cln['Mouse_weight'],mouse_df_cln['Tumor_vol_mean'])\n",
    "print(f\"The correlation between both factors is {round(correlation[0],2)}\")"
   ]
  },
  {
   "cell_type": "code",
   "execution_count": null,
   "metadata": {},
   "outputs": [],
   "source": [
    "cap_df = mouse_df_cln.loc[mouse_df_cln['Drug Regimen'] == 'Capomulin']\n",
    "avg_vol_df = pd.DataFrame(cap_df.groupby('Mouse ID')['Tumor Volume (mm3)'].mean().sort_values()).reset_index().rename(columns={'Tumor Volume (mm3)': 'avg_tumor_vol'})\n",
    "avg_vol_df = pd.merge(cap_df, avg_vol_df, on='Mouse ID')\n",
    "final_avg_vol_df = avg_vol_df[['Weight (g)', 'avg_tumor_vol']].drop_duplicates()\n",
    "final_avg_vol_df\n",
    "x = final_avg_vol_df['Weight (g)']\n",
    "y = final_avg_vol_df['avg_tumor_vol']\n",
    "\n",
    "correlation = st.pearsonr(x,y)\n",
    "print(f'''The correlation between weight and average tumor volume\n",
    "on the Capomulin regimen is {round(correlation[0],4)}.''')\n",
    "\n",
    "(slope, intercept, rvalue, pvalue, stderr) = linregress(x, y)\n",
    "reg_vals = x * slope + intercept\n",
    "line_eq = \"y = \" + str(round(slope,2)) + \"x + \" + str(round(intercept,2))\n",
    "\n",
    "# Plot linear regression on top of scatter plot\n",
    "plt.scatter(x,y)\n",
    "plt.plot(x,regress_values,\"r-\")\n",
    "\n",
    "# Annotate linear regression\n",
    "plt.annotate(line_eq,(20,36),fontsize=15,color=\"red\")\n",
    "\n",
    "# Add labels and title to plot\n",
    "plt.xlabel(\"Weight (g)\")\n",
    "plt.ylabel(\"Average Tumor Volume (mm3)\")\n",
    "plt.title('Average Tumor Volume by Weight')\n",
    "plt.show()"
   ]
  }
 ],
 "metadata": {
  "anaconda-cloud": {},
  "kernelspec": {
   "display_name": "Python 3",
   "language": "python",
   "name": "python3"
  },
  "language_info": {
   "codemirror_mode": {
    "name": "ipython",
    "version": 3
   },
   "file_extension": ".py",
   "mimetype": "text/x-python",
   "name": "python",
   "nbconvert_exporter": "python",
   "pygments_lexer": "ipython3",
   "version": "3.8.5"
  }
 },
 "nbformat": 4,
 "nbformat_minor": 4
}
